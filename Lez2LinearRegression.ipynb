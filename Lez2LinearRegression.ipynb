{
  "nbformat": 4,
  "nbformat_minor": 0,
  "metadata": {
    "colab": {
      "provenance": [],
      "collapsed_sections": [
        "v_gNEXhIcJJK"
      ]
    },
    "kernelspec": {
      "name": "python3",
      "display_name": "Python 3"
    },
    "language_info": {
      "name": "python"
    }
  },
  "cells": [
    {
      "cell_type": "markdown",
      "source": [
        "# Regressione Lineare\n",
        "by Elia Cellini\n",
        "\n",
        "La scorsa lezione abbiamo introdotto il machine learning, una tecnica numerica che permette di approssiamare funzioni target $f(x)$ estrapolando la \"conoscenza\" da set di dati, e che si basa su tre ingredienti principali:\n",
        "\n",
        "*   Il dataset $X$\n",
        "*   Lo spazio delle ipotesi, uno spazio di funzioni dipendenti da un set di parametri $W$.\n",
        "*   Algoritmo di learning\n",
        "\n",
        "Durante la procedura di \"addestramento\", l'algoritmo di learning esplora lo spazio delle ipotesi testandolo sul dataset; se la procedura va a buon fine, l'output del programma sarà una funzione $g_W$ che approssima al meglio la funzione target $f$:\n",
        "$$g_W(x)\\simeq f(x)$$\n",
        "\n",
        "In questo laboratorio affronteremo il primo modello di machine learning di questo minicorso: la **regressione lineare**. \n",
        "\n",
        "Consideriamo un dataset $X$ di N campioni $x_i\\in \\mathbb{R}^d$:\n",
        "$$x_i=[x_i^1,x_i^2,...x_i^d]$$\n",
        "e\n",
        "$$X=\\begin{pmatrix}\n",
        "x_1^1 & ... & x_1^d\\\\\n",
        "... & ... & ... \\\\\n",
        "x_i^1 & ... & x_i^d \\\\\n",
        "... & ... & ... \\\\\n",
        "x_N^1 & ... & x_N^d\n",
        "\\end{pmatrix}$$\n"
      ],
      "metadata": {
        "id": "FBKFumVG3Pct"
      }
    },
    {
      "cell_type": "markdown",
      "source": [
        "Testeremo questo modello su un semplice dataset lineare con $d=1$ in presenza di un rumore gaussiano, la funzione target dunque è una retta:\n",
        "$$y=aX+b+\\epsilon$$\n",
        "dove $y, b\\in \\mathbb{R}$, e $\\epsilon$ rappresenta un rumore Gaussiano."
      ],
      "metadata": {
        "id": "EAyAU0Pf46ko"
      }
    },
    {
      "cell_type": "code",
      "execution_count": 1,
      "metadata": {
        "id": "-kmwczMaxC54"
      },
      "outputs": [],
      "source": [
        "import numpy as np\n",
        "import matplotlib.pyplot as plt"
      ]
    },
    {
      "cell_type": "code",
      "source": [
        "#Funione per generare dei dati distributi su una retta y=b*x+a con rumore\n",
        "def mk_data(minR=-5,maxR=5, step=0.1, sigma=1):\n",
        "    b = -5.0\n",
        "    a = 3.0\n",
        "    x = np.arange(minR,maxR,step)\n",
        "    y = a*x + b + np.random.normal(0,sigma, len(x))\n",
        "    x = x + np.random.normal(0,sigma, len(x))\n",
        "    return  x, y\n",
        "\n",
        "#Questa funzione aggiunge degli \"outliner\" (dei punti sbagliati) ai dati\n",
        "def add_outliers(y,inc = 20.0):\n",
        "    idx = np.argsort(y)\n",
        "    y[idx[:2]] += inc\n",
        "    y[idx[-2:]] -= inc\n",
        "    return y\n",
        "#Funzione per plottare \n",
        "def plotfit(X,y,W,title):\n",
        "    p= plt.plot (X[:,1], y, 'bx')\n",
        "    p= plt.plot (X[:,1], X.dot(W), 'r-')\n",
        "    plt.title(title)\n",
        "    plt.show()"
      ],
      "metadata": {
        "id": "VXq5hdbFxJ6O"
      },
      "execution_count": 3,
      "outputs": []
    },
    {
      "cell_type": "markdown",
      "source": [
        "Generiamo learning e test set:"
      ],
      "metadata": {
        "id": "qV134wRG5Y8f"
      }
    },
    {
      "cell_type": "code",
      "source": [
        "s = 1.0\n",
        "XL, yL = mk_data() # training sets\n",
        "XT, yT = mk_data(minR=5,maxR=15)  # test sets"
      ],
      "metadata": {
        "id": "0gGNsQJA5UIe"
      },
      "execution_count": 4,
      "outputs": []
    },
    {
      "cell_type": "code",
      "source": [
        "XL.shape"
      ],
      "metadata": {
        "colab": {
          "base_uri": "https://localhost:8080/"
        },
        "id": "2Cy57WByqHjn",
        "outputId": "19a69b8e-8db6-485c-848c-85de36ae01de"
      },
      "execution_count": 5,
      "outputs": [
        {
          "output_type": "execute_result",
          "data": {
            "text/plain": [
              "(100,)"
            ]
          },
          "metadata": {},
          "execution_count": 5
        }
      ]
    },
    {
      "cell_type": "code",
      "source": [
        "yL.shape"
      ],
      "metadata": {
        "colab": {
          "base_uri": "https://localhost:8080/"
        },
        "id": "9HPQcEFDqI73",
        "outputId": "d0151c73-2866-498f-e3fb-6844d2039327"
      },
      "execution_count": 6,
      "outputs": [
        {
          "output_type": "execute_result",
          "data": {
            "text/plain": [
              "(100,)"
            ]
          },
          "metadata": {},
          "execution_count": 6
        }
      ]
    },
    {
      "cell_type": "code",
      "source": [
        "plt.plot(XL,yL,'bx',label='learning set');\n",
        "plt.plot(XT,yT,'rx',label='test set')\n",
        "plt.legend()"
      ],
      "metadata": {
        "colab": {
          "base_uri": "https://localhost:8080/",
          "height": 283
        },
        "id": "_bc_7i8jxLrX",
        "outputId": "e4624646-90c2-45d3-cb5e-000cd4a656ce"
      },
      "execution_count": 7,
      "outputs": [
        {
          "output_type": "execute_result",
          "data": {
            "text/plain": [
              "<matplotlib.legend.Legend at 0x7f7f086d0fd0>"
            ]
          },
          "metadata": {},
          "execution_count": 7
        },
        {
          "output_type": "display_data",
          "data": {
            "text/plain": [
              "<Figure size 432x288 with 1 Axes>"
            ],
            "image/png": "[encoded data removed]"
          },
          "metadata": {
            "needs_background": "light"
          }
        }
      ]
    },
    {
      "cell_type": "markdown",
      "source": [
        "Lo spazio delle ipotesi della regressione lineare è un prodotto:\n",
        "$$\\hat{y}=g_w(x)=XW+b$$\n",
        "dove $W \\in \\mathbb{R}^d$, $b\\in \\mathbb{R}$ e $\\hat{y}\\in \\mathbb{R}$.\n",
        "Dunque:\n",
        "$$\\hat{y}=\\begin{pmatrix}\n",
        "\\hat{y}_1 \\\\\n",
        "...  \\\\\n",
        "\\hat{y}_N\n",
        "\\end{pmatrix}=\\begin{pmatrix}\n",
        "x_1^1 & ... & x_1^d\\\\\n",
        "... & ... & ... \\\\\n",
        "x_i^1 & ... & x_i^d \\\\\n",
        "... & ... & ... \\\\\n",
        "x_N^1 & ... & x_N^d\n",
        "\\end{pmatrix} \\begin{pmatrix}\n",
        "w_1 \\\\\n",
        "...  \\\\\n",
        "w_d\n",
        "\\end{pmatrix}+b$$"
      ],
      "metadata": {
        "id": "YV1wspJdHDIS"
      }
    },
    {
      "cell_type": "markdown",
      "source": [
        "Prima di addestrare il modello, è comodo \"assorbire\" il termine noto $b$ nei parametri $w$ aggiungendo una dimensione ad $x$ con valore fissato a $1$. Usando questa trasformazione:\n",
        "$$X=\\begin{pmatrix}\n",
        "1 & x_1 \\\\\n",
        "1 & ... \\\\\n",
        "1 & x_i \\\\\n",
        "1 & ... \\\\\n",
        "1 & x_N \n",
        "\\end{pmatrix}$$\n",
        "e\n",
        "$W \\in \\mathbb{R}^{2}$:\n",
        "$$W=[b,m]^T=\\begin{pmatrix}\n",
        "b \\\\\n",
        "w_1  \\\\\n",
        "\\end{pmatrix}$$\n",
        "Dunque:\n",
        "$$\\hat{y}=XW$$\n"
      ],
      "metadata": {
        "id": "q1ARhAH78cG2"
      }
    },
    {
      "cell_type": "code",
      "source": [
        "Xl=np.c_[np.ones(len(XL)),XL]\n",
        "Xt=np.c_[np.ones(len(XT)),XT]\n",
        "yL=yL.reshape(len(XL), 1)\n",
        "yT=yT.reshape(len(XL), 1)"
      ],
      "metadata": {
        "id": "qyZziZ0m-icp"
      },
      "execution_count": 10,
      "outputs": []
    },
    {
      "cell_type": "markdown",
      "source": [
        "La loss function che minimizzeremo per addestrare il nostro algoritmo lineare è l'errore quadratico medio (MSE):\n",
        "$$E(W)=L_{MSE}=\\frac{1}{N}\\sum_i^N(y_i-g_W(x_i))^2$$\n",
        "In questo seplice caso, è possibile trovare una soluzione analitica:\n",
        "$$w^*=(X^TX)^{-1}X^Ty$$\n",
        "dove $X$ rappresenta il dataset, per noi Xl.\n"
      ],
      "metadata": {
        "id": "D46seK_K9BeO"
      }
    },
    {
      "cell_type": "code",
      "source": [
        "def NormReg(X,y):\n",
        "    return np.linalg.inv(X.T.dot(X)).dot(X.T).dot(y)"
      ],
      "metadata": {
        "id": "4G_JfJa15RMK"
      },
      "execution_count": 11,
      "outputs": []
    },
    {
      "cell_type": "code",
      "source": [
        "Wnorm=NormReg(Xl,yL)\n",
        "print(Wnorm)"
      ],
      "metadata": {
        "colab": {
          "base_uri": "https://localhost:8080/"
        },
        "id": "iKTZBytoqh5Y",
        "outputId": "ae1a5762-9555-4eb0-d98b-b8775eb2bc7a"
      },
      "execution_count": 12,
      "outputs": [
        {
          "output_type": "stream",
          "name": "stdout",
          "text": [
            "[[-4.78191404]\n",
            " [ 2.78668638]]\n"
          ]
        }
      ]
    },
    {
      "cell_type": "code",
      "source": [
        "plotfit(Xl,yL,Wnorm, 'train set')\n",
        "plotfit(Xt,yT,Wnorm, 'test set')  "
      ],
      "metadata": {
        "colab": {
          "base_uri": "https://localhost:8080/",
          "height": 545
        },
        "id": "VdRXvg5Cqe6j",
        "outputId": "b48fd169-7ded-43a5-dd50-08c440cc0485"
      },
      "execution_count": 13,
      "outputs": [
        {
          "output_type": "display_data",
          "data": {
            "text/plain": [
              "<Figure size 432x288 with 1 Axes>"
            ],
            "image/png": "[encoded data removed]"
          },
          "metadata": {
            "needs_background": "light"
          }
        },
        {
          "output_type": "display_data",
          "data": {
            "text/plain": [
              "<Figure size 432x288 with 1 Axes>"
            ],
            "image/png": "[encoded data removed]"
          },
          "metadata": {
            "needs_background": "light"
          }
        }
      ]
    },
    {
      "cell_type": "markdown",
      "source": [
        "**Gradient Descent**\n",
        "Addestriamo il modello usando una discesa del gradiente:\n",
        "$$\n",
        "W(i+1) = W(i) - \\eta\\cdot \\nabla_{W}E(W) \\\\\n",
        "$$\n",
        "\n",
        "\n",
        "*   Implementa in gradiente $\\nabla_{W} E(W)=X^T(XW-y)$\n",
        "*   Implementa un ciclo per addestrare il modello usando la discesa del gradiente\n",
        "*   (Opzionale: Implementa lo \"stochastic gradient descent\" SGD, suddividi il dataset in \"mini batch\", ad es. 10 campioni, ed usali per aggionare i parametri. Al posto delle iterazioni ti conviene ragionare in \"epoche\", ovvero il numero di step di SGD necessari per \"vedere\" l'intero dataset) \n",
        "\n"
      ],
      "metadata": {
        "id": "LWGBuAaTAoXG"
      }
    },
    {
      "cell_type": "code",
      "source": [
        "def gradL(X,y,w):\n",
        "  \n",
        "  return dw"
      ],
      "metadata": {
        "id": "ZmbAHhlGNJdV"
      },
      "execution_count": 26,
      "outputs": []
    },
    {
      "cell_type": "code",
      "source": [
        "def GD(X,y,i_max,eta):\n",
        "\n",
        "  return w"
      ],
      "metadata": {
        "id": "VmMSQ2CyNJZL"
      },
      "execution_count": 27,
      "outputs": []
    },
    {
      "cell_type": "code",
      "source": [
        "w=GD(Xl,yL,10,0.001)\n",
        "print(w)"
      ],
      "metadata": {
        "id": "D0BDvIOusL5u"
      },
      "execution_count": null,
      "outputs": []
    },
    {
      "cell_type": "code",
      "source": [
        "plt.plot(Xt[:,1], yT, 'bx')\n",
        "plt.plot(Xt[:,1], Xt.dot(w), 'g-')\n",
        "plt.title('Prediction on Test Set')\n",
        "plt.show()"
      ],
      "metadata": {
        "id": "kO8tNFweN1P6"
      },
      "execution_count": null,
      "outputs": []
    },
    {
      "cell_type": "markdown",
      "source": [
        "### Soluzione"
      ],
      "metadata": {
        "id": "i5ZIz307NeUN"
      }
    },
    {
      "cell_type": "code",
      "source": [
        "def gradL2(X,y,w):\n",
        "    return X.T.dot((X.dot(w)-y))"
      ],
      "metadata": {
        "id": "0N-qyeLGGJdc"
      },
      "execution_count": 11,
      "outputs": []
    },
    {
      "cell_type": "code",
      "source": [
        "def GD(grad, X, y,epochs,eta):\n",
        "    n,d = X.shape\n",
        "    w = np.zeros(d).reshape(d, 1)\n",
        "    for e in range(epochs):\n",
        "        w = w-eta*grad(X,y,w)\n",
        "    return w"
      ],
      "metadata": {
        "id": "U-AqAT0mGJZi"
      },
      "execution_count": 12,
      "outputs": []
    },
    {
      "cell_type": "code",
      "source": [
        "w=GD(gradL2,Xl,yL,5,0.001)\n",
        "print(w)"
      ],
      "metadata": {
        "id": "Zy6FLD7iGNd-",
        "colab": {
          "base_uri": "https://localhost:8080/"
        },
        "outputId": "46ff53da-4ed5-4515-a814-fefee47ca3f7"
      },
      "execution_count": 17,
      "outputs": [
        {
          "output_type": "stream",
          "name": "stdout",
          "text": [
            "[[-2.09279279]\n",
            " [ 2.70112728]]\n"
          ]
        }
      ]
    },
    {
      "cell_type": "code",
      "source": [
        "#results on test set\n",
        "plt.show()\n",
        "plt.plot(Xt[:,1], yT, 'bx')\n",
        "plt.plot(Xt[:,1], Xt.dot(w), 'g-',label='GD')\n",
        "plt.plot(Xt[:,1], Xt.dot(Wnorm), 'r-',label='Soluzione Analitica')\n",
        "plt.legend()\n",
        "plt.title('Prediction on Test Set')\n",
        "plt.show()"
      ],
      "metadata": {
        "colab": {
          "base_uri": "https://localhost:8080/",
          "height": 281
        },
        "id": "rj_y71ipGRqJ",
        "outputId": "efef391c-6cd0-4acf-8452-ae38a3b1a479"
      },
      "execution_count": 18,
      "outputs": [
        {
          "output_type": "display_data",
          "data": {
            "text/plain": [
              "<Figure size 432x288 with 1 Axes>"
            ],
            "image/png": "[encoded data removed]"
          },
          "metadata": {
            "needs_background": "light"
          }
        }
      ]
    },
    {
      "cell_type": "markdown",
      "source": [
        "#Loss function e inferenza statistica\n",
        "https://arxiv.org/pdf/1803.08823.pdf\n",
        "\n",
        "Usando l'inferenza statistica, possiamo dedurre la loss function $L_{MSE}$ studiando la posterior: \n",
        "$$p(W|X)$$\n",
        "ovvero la distribuzione di probabibilità che condiziona i parametri W ai dati X.\n",
        "Usando il teorema di Bayes:\n",
        "$$p(W|X)=\\frac{p(X|W)p(W)}{c}$$\n",
        "dove $p(X|W)$ è generalmente chiamata likelihood, $p(W)$ è detta prior mentre $c$ è una costante di normalizzazione. Supponiamo che i target $y$ siano delle fluttuazioni i.i.d centrate sulle predizioni del modello, ovvero immaginiamo che la likelihood sia una produttoria di Gaussiane:\n",
        "$$p(X|W)=∏_{i}^N\\frac{1}{Z}e^{-\\frac{\\beta}{2}(y_i-\\hat{y}_i)^2}=\\frac{1}{Z}e^{-\\frac{\\beta}{2}\\sum_{i}^N(y_i-\\hat{y}_i)^2}=\\frac{1}{Z}e^{-\\frac{\\beta N}{2}E(W)}$$\n",
        "massimizzare questo oggetto equivale a minimizzare:\n",
        "$$-\\log p(X|W)={\\frac{\\beta}{2}\\sum_{i}^N(y_i-\\hat{y}_i)^2}+c=\\frac{\\beta N}{2}E(W)+c$$\n",
        "ovvero la loss MSE. Nel caso in cui la prior è costante e dunque trascurabile, massimizzare la posterior equivale al principio di \"Maximun Likelihood\". \n",
        "$$w^*=max_Wp(X|W)$$\n",
        "\n",
        "Ricordate il tradeoff tra bias e varianza? Le fluttuazioni misurate dal termine di varianza sono legate alla prior p(W) e possiamo tentare di controllarle durante la costruzione della loss. Immaginiamo che i parametri siano i.i.d:\n",
        "$$p(W)=\\frac{1}{Z}\\prod_k e^{-\\frac{\\alpha}{2}w_k^2}$$\n",
        "Dunque, se minimiziamo $-\\log p(W|X)$ otteniamo una nuova loss \"regolarizzata\":\n",
        "$$E_{\\lambda}(W)=\\frac{1}{N}\\sum_i^N(y_i-\\hat{y}_i)^2+\\lambda\\sum_k w_k^2$$\n",
        "dove $\\lambda=\\frac{\\alpha}{\\beta}$ è un iperparametro. Il termine che abbiamo aggiunto si chiama regolarizzatore e, in questo caso, ha l'effetto di tenere \"piccoli\" i parametri.\n"
      ],
      "metadata": {
        "id": "kqJZDJ3KLi-O"
      }
    },
    {
      "cell_type": "markdown",
      "source": [
        "### Esercizi\n",
        "Aggiungiamo rumore e degli outliner ai dati."
      ],
      "metadata": {
        "id": "mmNYQPMxVR7i"
      }
    },
    {
      "cell_type": "code",
      "source": [
        "XL, yL = mk_data() # training sets\n",
        "yL = add_outliers(yL)\n",
        "XT, yT = mk_data(minR=5,maxR=15)  # test sets\n",
        "Xl=np.c_[np.ones(len(XL)),XL]\n",
        "Xt=np.c_[np.ones(len(XT)),XT]\n",
        "yL=yL.reshape(len(XL), 1)\n",
        "yT=yT.reshape(len(XL), 1)\n",
        "plt.plot(XL,yL,'bx',label='learning set');\n",
        "plt.plot(XT,yT,'rx',label='test set')\n",
        "plt.legend()"
      ],
      "metadata": {
        "colab": {
          "base_uri": "https://localhost:8080/",
          "height": 283
        },
        "id": "T7mdcfawLiYi",
        "outputId": "c43555cb-d7c5-4f8b-8757-39d15b967cd7"
      },
      "execution_count": 14,
      "outputs": [
        {
          "output_type": "execute_result",
          "data": {
            "text/plain": [
              "<matplotlib.legend.Legend at 0x7f7f060b5460>"
            ]
          },
          "metadata": {},
          "execution_count": 14
        },
        {
          "output_type": "display_data",
          "data": {
            "text/plain": [
              "<Figure size 432x288 with 1 Axes>"
            ],
            "image/png": "[encoded data removed]"
          },
          "metadata": {
            "needs_background": "light"
          }
        }
      ]
    },
    {
      "cell_type": "markdown",
      "source": [
        "Implementa e testa le seguenti loss:\n",
        "   * $L_{MAE} = \\frac{1}{N}\\sum_{i=1}^N | y_i -g_W(x_i)| $\n",
        "\n",
        "   * $L_{LC}= \\frac{1}{N}\\sum_{i=1}^N \\ln [ \\cosh (y_i -g_W(x_i)) ] $\n",
        "\n",
        "e confrontane i risultati con $L_{MSE}$.\n"
      ],
      "metadata": {
        "id": "wPubgSdEBAFT"
      }
    },
    {
      "cell_type": "markdown",
      "source": [
        "**Esercizio** Implementa i seguenti regolarizzatori:\n",
        "\n",
        "*   $L_1=\\lambda\\sum_{k}|w_k|$ (Lasso)\n",
        "*   $L_2=\\lambda\\sum_kw_k^2$ (Ridge)\n",
        "\n",
        "e plotta la delle componenti di $w^*$ al variare di $\\lambda$."
      ],
      "metadata": {
        "id": "4NnFwhzHZjFH"
      }
    },
    {
      "cell_type": "markdown",
      "source": [
        "### Soluzioni"
      ],
      "metadata": {
        "id": "v_gNEXhIcJJK"
      }
    },
    {
      "cell_type": "code",
      "source": [
        "#Gradient of loss function\n",
        "def gradL1(X,y,w):\n",
        "    return X.T.dot(np.sign(X.dot(w)-y))\n",
        "                   \n",
        "def gradLC(X,y,w):\n",
        "    D=y-X.dot(w)\n",
        "    return (-X).T.dot((1/np.cosh(D))*np.sinh(D))\n",
        "#training\n",
        "wl1=GD(gradL1,Xl,yL,1000,0.0001)\n",
        "wl2=GD(gradL2,Xl,yL,15,0.001)\n",
        "wllc=GD(gradLC,Xl,yL,60,0.001)\n",
        "#results on test set\n",
        "plt.plot(Xt[:,1], yT, 'bx')\n",
        "plt.plot(Xt[:,1], Xt.dot(wl1), 'k-', label='L1')\n",
        "plt.plot(Xt[:,1], Xt.dot(wl2), 'g-',label='L2')\n",
        "plt.plot(Xt[:,1], Xt.dot(wllc), 'r-',label='LLC')\n",
        "plt.legend()\n",
        "plt.title('Prediction on Test Set')\n",
        "plt.show()"
      ],
      "metadata": {
        "colab": {
          "base_uri": "https://localhost:8080/",
          "height": 281
        },
        "id": "sbZElMj_xgyk",
        "outputId": "6e10102b-9301-4937-db9e-68ccdd3baf9e"
      },
      "execution_count": 20,
      "outputs": [
        {
          "output_type": "display_data",
          "data": {
            "text/plain": [
              "<Figure size 432x288 with 1 Axes>"
            ],
            "image/png": "[encoded data removed]"
          },
          "metadata": {
            "needs_background": "light"
          }
        }
      ]
    },
    {
      "cell_type": "code",
      "source": [],
      "metadata": {
        "id": "MExqDK44wthB"
      },
      "execution_count": null,
      "outputs": []
    }
  ]
}